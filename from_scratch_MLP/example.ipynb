{
 "cells": [
  {
   "cell_type": "code",
   "execution_count": 1,
   "metadata": {},
   "outputs": [],
   "source": [
    "# Importing packages\n",
    "\n",
    "import numpy as np\n",
    "from model import MLP\n",
    "import matplotlib.pyplot as plt\n",
    "from sklearn.datasets import load_wine\n",
    "from tqdm import tqdm\n",
    "from sklearn.preprocessing import StandardScaler\n",
    "from sklearn.model_selection import train_test_split\n",
    "from sklearn.metrics import accuracy_score\n",
    "from model import onehot\n"
   ]
  },
  {
   "cell_type": "code",
   "execution_count": 2,
   "metadata": {},
   "outputs": [],
   "source": [
    "# loading Data\n",
    "df = load_wine()\n",
    "X = df[\"data\"]\n",
    "y = df[\"target\"]"
   ]
  },
  {
   "cell_type": "code",
   "execution_count": 3,
   "metadata": {},
   "outputs": [],
   "source": [
    "# Preprocssing data\n",
    "scaler = StandardScaler()\n",
    "model = scaler.fit(X)\n",
    "scaled_data = model.transform(X)\n",
    "\n",
    "X_train, X_test, y_train, y_test = train_test_split(scaled_data,\n",
    "                                                    y,\n",
    "                                                    test_size=30,\n",
    "                                                    train_size=70,\n",
    "                                                    random_state=18)\n",
    "\n",
    "\n",
    "# convert X to cpt notation\n",
    "ones_col = np.ones((X_train.shape[0], 1))\n",
    "X_train = np.hstack((X_train, ones_col))\n",
    "ones_col = np.ones((X_test.shape[0], 1))\n",
    "X_test = np.hstack((X_test, ones_col))"
   ]
  },
  {
   "cell_type": "code",
   "execution_count": 4,
   "metadata": {},
   "outputs": [
    {
     "name": "stdout",
     "output_type": "stream",
     "text": [
      "(15, 50)\n",
      "Epoch 0, current_loss: 1.0811103470617331\n",
      "Epoch 100, current_loss: 0.04557977859296245\n",
      "Epoch 200, current_loss: 0.01741751346622621\n",
      "Epoch 300, current_loss: 0.010108845535766438\n",
      "Epoch 400, current_loss: 0.006906048817293624\n",
      "Epoch 500, current_loss: 0.005158518362179519\n",
      "Epoch 600, current_loss: 0.004071768259156679\n",
      "Epoch 700, current_loss: 0.0033381111883055603\n",
      "Epoch 800, current_loss: 0.002814294078782916\n"
     ]
    }
   ],
   "source": [
    "\n",
    "mlp = MLP(input_dim=X_train.shape,\n",
    "          hidden_dim=50,\n",
    "          output_dim=3,\n",
    "          n_classes=3)\n",
    "\n",
    "losses = []\n",
    "pre_loss = 1000000\n",
    "current_loss = 1000\n",
    "i = 0\n",
    "epoch = 500\n",
    "test_accs = []\n",
    "\n",
    "while i <= epoch and pre_loss - current_loss > 1e-5:\n",
    "    pre_loss = current_loss\n",
    "    current_loss = mlp.forward(X_train, y_train)\n",
    "    mlp.backward()\n",
    "    mlp.update(learning_rate=1e-1)\n",
    "    losses.append(current_loss)\n",
    "    if i % 100 == 0:\n",
    "        print(f\"Epoch {i}, current_loss: {current_loss}\")\n",
    "\n",
    "    y_pred = mlp.predict(X_test)\n",
    "    # print(y_pred)\n",
    "    test_acc = accuracy_score(y_pred, y_test)\n",
    "    # print(f\"test acc {test_acc}\")\n",
    "    test_accs.append(test_acc)\n",
    "    i += 1"
   ]
  },
  {
   "cell_type": "code",
   "execution_count": 16,
   "metadata": {},
   "outputs": [
    {
     "data": {
      "image/png": "[encoded data removed]",
      "text/plain": [
       "<Figure size 640x480 with 1 Axes>"
      ]
     },
     "metadata": {},
     "output_type": "display_data"
    },
    {
     "name": "stdout",
     "output_type": "stream",
     "text": [
      "prediction [2, 0, 0, 1, 0, 1, 2, 1, 1, 2, 1, 2, 2, 2, 2, 2, 2, 0, 0, 1, 2, 0, 0, 2, 1, 2, 0, 1, 2, 1, 1, 0, 1, 1, 1, 1, 0, 1, 0, 2, 0, 2, 1, 2, 1, 0, 1, 1, 2, 0, 1, 1, 1, 0, 1, 1, 1, 2, 0, 0, 1, 2, 1, 2, 0, 1, 2, 0, 0, 2]\n",
      "gt [2 0 0 1 0 1 2 1 1 2 1 2 2 2 2 2 2 0 0 1 2 0 0 2 1 2 0 1 2 1 1 0 1 1 1 1 0\n",
      " 1 0 2 0 2 1 2 1 0 1 1 2 0 1 1 1 0 1 1 1 2 0 0 1 2 1 2 0 1 2 0 0 2]\n",
      "train acc 1.0\n",
      "[1, 1, 1, 0, 0, 2, 0, 0, 0, 1, 1, 1, 0, 2, 1, 1, 0, 0, 0, 0, 2, 2, 1, 2, 0, 0, 1, 0, 2, 1]\n",
      "test acc 0.9333333333333333\n"
     ]
    }
   ],
   "source": [
    "plt.plot(range(len(losses)), test_accs, label=\"Test Acc\")\n",
    "plt.plot(range(len(losses)), losses, label=\"Loss\")\n",
    "plt.title(\"Loss and Test Accuracy vs Epoch\")\n",
    "plt.xlabel(\"epoch\")\n",
    "plt.ylabel(\"loss\")\n",
    "plt.ylim((-0.05, 1.05))\n",
    "plt.grid()\n",
    "plt.legend()\n",
    "plt.show()\n",
    "\n",
    "y_pred = mlp.predict(X_train)\n",
    "print(f\"prediction {y_pred}\")\n",
    "print(f\"gt {y_train}\")\n",
    "print(f\"train acc {accuracy_score(y_pred, y_train)}\")\n",
    "\n",
    "y_pred = mlp.predict(X_test)\n",
    "print(y_pred)\n",
    "print(f\"test acc {accuracy_score(y_pred, y_test)}\")\n",
    "#%%"
   ]
  },
  {
   "cell_type": "code",
   "execution_count": null,
   "metadata": {},
   "outputs": [],
   "source": []
  }
 ],
 "metadata": {
  "kernelspec": {
   "display_name": "Learning_ML",
   "language": "python",
   "name": "python3"
  },
  "language_info": {
   "codemirror_mode": {
    "name": "ipython",
    "version": 3
   },
   "file_extension": ".py",
   "mimetype": "text/x-python",
   "name": "python",
   "nbconvert_exporter": "python",
   "pygments_lexer": "ipython3",
   "version": "3.11.9"
  }
 },
 "nbformat": 4,
 "nbformat_minor": 2
}
